{
 "cells": [
  {
   "cell_type": "code",
   "execution_count": 2,
   "id": "7848cd4f",
   "metadata": {},
   "outputs": [],
   "source": [
    "##存成JPG\n",
    "import numpy as np\n",
    "import cv2\n",
    "from glob import glob\n",
    "target = 6\n",
    "\n",
    "img_list = glob(f'C:/Users/MA201-Ultima/Desktop/Nintendo_OK/0901_6_OK/0721-6/*')\n",
    "for i,e in enumerate(img_list):\n",
    "    im = cv2.imread(img_list[i])\n",
    "    name = e.split('/')[-1]\n",
    "    name2 = name.split('\\\\')[-1]\n",
    "    name3 = name2.split('.')[0]\n",
    "    # print(im)\n",
    "    cv2.imwrite(f'C:/Users/MA201-Ultima/Desktop/temp/'+ name3 +'.jpg', im)\n",
    "rec_image = glob(f'C:/Users/MA201-Ultima/Desktop/temp/*')\n",
    "\n",
    "for i ,j in enumerate(rec_image):\n",
    "    img = cv2.imread(rec_image[i])\n",
    "    #抓檔名\n",
    "    name = j.split('/')[-1]\n",
    "    name2 = name.split('\\\\')[-1]\n",
    "    name3 = name2.split('.')[0]\n",
    "    #加上黑色\n",
    "    x=img.shape[1]##宽度\n",
    "    y=img.shape[0]##高度\n",
    "    add_array=np.zeros((x-y, x))\n",
    "    add_array = np.expand_dims(add_array, axis=2) #把(222,323)變成(222,323,1)\n",
    "    image1 = np.concatenate((add_array, add_array, add_array), axis=-1)#把[0,][0,][0,]變成[0,0,0]\n",
    "    image_last = np.vstack((img, image1))#將原圖和黑圖疊起來\n",
    "    cv2.imwrite(f'C:/Users/MA201-Ultima/Desktop/square/{name3}.jpg',image_last)"
   ]
  },
  {
   "cell_type": "code",
   "execution_count": null,
   "id": "0b27694e",
   "metadata": {},
   "outputs": [],
   "source": []
  }
 ],
 "metadata": {
  "kernelspec": {
   "display_name": "Python 3 (ipykernel)",
   "language": "python",
   "name": "python3"
  },
  "language_info": {
   "codemirror_mode": {
    "name": "ipython",
    "version": 3
   },
   "file_extension": ".py",
   "mimetype": "text/x-python",
   "name": "python",
   "nbconvert_exporter": "python",
   "pygments_lexer": "ipython3",
   "version": "3.8.17"
  }
 },
 "nbformat": 4,
 "nbformat_minor": 5
}
